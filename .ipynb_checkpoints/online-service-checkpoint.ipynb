{
 "cells": [
  {
   "cell_type": "code",
   "execution_count": 16,
   "id": "f0c89a38-ec14-40b0-8e53-756d73ae7516",
   "metadata": {},
   "outputs": [
    {
     "name": "stdout",
     "output_type": "stream",
     "text": [
      "   service_duration  monthly_sessions  time_spent  age  churn\n",
      "0               103                30        3.21   48      0\n",
      "1               436                31        3.35   42      0\n",
      "2               271                49        2.18   40      0\n",
      "3               107                 5        2.81   41      0\n",
      "4                72                44        2.36   55      0\n",
      "5               701                14        0.81   45      1\n",
      "6                21                11        2.47   38      1\n",
      "7               615                 9        0.94   60      0\n",
      "8               122                34        2.32   35      0\n",
      "9               467                12        3.17   53      1\n"
     ]
    }
   ],
   "source": [
    "import numpy as np\n",
    "import pandas as pd\n",
    "\n",
    "# Фиксируем зерно для воспроизводимости результатов\n",
    "np.random.seed(42)\n",
    "\n",
    "# Количество наблюдений\n",
    "n_samples = 1000\n",
    "\n",
    "# Генерация признаков\n",
    "service_duration = np.random.randint(1, 730, size=n_samples)    # от 1 до 730 дней\n",
    "monthly_sessions = np.random.randint(1, 50, size=n_samples)     # от 1 до 50 сеансов в месяц\n",
    "time_spent = np.random.uniform(0.5, 5, size=n_samples)          # от 0.5 до 5 часов\n",
    "age = np.random.randint(18, 65, size=n_samples)                 # возраст от 18 до 65 лет\n",
    "\n",
    "# Логика генерации вероятности оттока (искусственная)\n",
    "# Чем меньше продолжительность использования, меньше сеансов, меньше времени в системе\n",
    "# и больше возраст — тем выше вероятность оттока.\n",
    "churn_prob = (\n",
    "    0.2\n",
    "    + 0.2 * (service_duration < 100)      # короткий период использования\n",
    "    + 0.2 * (monthly_sessions < 20)       # мало сеансов\n",
    "    + 0.2 * (time_spent < 1.5)           # мало времени в системе\n",
    "    + 0.1 * (age > 50)                   # возраст более 50 лет\n",
    ")\n",
    "\n",
    "# Ограничим вероятность от 0 до 1\n",
    "churn_prob = np.clip(churn_prob, 0, 1)\n",
    "\n",
    "# Генерация бинарной переменной (факт оттока) из Бернулли(вероятность=churn_prob)\n",
    "churn = (np.random.rand(n_samples) < churn_prob).astype(int)\n",
    "\n",
    "# Формируем DataFrame\n",
    "data = pd.DataFrame({\n",
    "    'service_duration': service_duration,\n",
    "    'monthly_sessions': monthly_sessions,\n",
    "    'time_spent': time_spent.round(2),  # округлим до сотых\n",
    "    'age': age,\n",
    "    'churn': churn\n",
    "})\n",
    "\n",
    "print(data.head(10))"
   ]
  },
  {
   "cell_type": "code",
   "execution_count": 17,
   "id": "4cf5db12-8087-404c-93b2-6c0fd14628c7",
   "metadata": {},
   "outputs": [
    {
     "name": "stdout",
     "output_type": "stream",
     "text": [
      "Размер X_train: (800, 4)\n",
      "Размер X_test: (200, 4)\n",
      "Размер y_train: (800,)\n",
      "Размер y_test: (200,)\n"
     ]
    }
   ],
   "source": [
    "import numpy as np\n",
    "import pandas as pd\n",
    "from sklearn.model_selection import train_test_split\n",
    "\n",
    "# 1. Разделим датафрейм на признаки (X) и целевую переменную (y)\n",
    "X = data.drop('churn', axis=1)  # все столбцы, кроме 'churn'\n",
    "y = data['churn']               # столбец 'churn'\n",
    "\n",
    "# 2. Разделим выборку на обучающую и тестовую\n",
    "#    test_size=0.2 означает, что 20% данных попадёт в тест\n",
    "#    stratify=y - для сохранения пропорций классов (если это уместно)\n",
    "X_train, X_test, y_train, y_test = train_test_split(\n",
    "    X, \n",
    "    y, \n",
    "    test_size=0.2, \n",
    "    stratify=y, \n",
    "    random_state=42\n",
    ")\n",
    "\n",
    "# Проверим размеры полученных выборок\n",
    "print(\"Размер X_train:\", X_train.shape)\n",
    "print(\"Размер X_test:\", X_test.shape)\n",
    "print(\"Размер y_train:\", y_train.shape)\n",
    "print(\"Размер y_test:\", y_test.shape)"
   ]
  },
  {
   "cell_type": "code",
   "execution_count": 18,
   "id": "5a675480-fb8c-4810-873d-f89a62dfb693",
   "metadata": {},
   "outputs": [
    {
     "name": "stdout",
     "output_type": "stream",
     "text": [
      "Accuracy на тестовых данных: 0.65\n"
     ]
    }
   ],
   "source": [
    "from sklearn.linear_model import LogisticRegression\n",
    "from sklearn.metrics import accuracy_score, classification_report\n",
    "\n",
    "# 1. Создаём экземпляр модели LogisticRegression\n",
    "model = LogisticRegression(random_state=42)\n",
    "\n",
    "# 2. Обучаем модель (fit)\n",
    "model.fit(X_train, y_train)\n",
    "\n",
    "# 3. Делаем предсказания (predict) на тестовых данных\n",
    "y_pred = model.predict(X_test)\n",
    "\n",
    "# 4. Оцениваем качество на тестовых данных\n",
    "accuracy = accuracy_score(y_test, y_pred)\n",
    "print(\"Accuracy на тестовых данных:\", accuracy)"
   ]
  },
  {
   "cell_type": "code",
   "execution_count": 19,
   "id": "3c308fe0-cf2a-4d3d-afca-8f5af0629191",
   "metadata": {},
   "outputs": [
    {
     "name": "stdout",
     "output_type": "stream",
     "text": [
      "     y_true  y_pred  y_pred_proba\n",
      "202       0       0      0.416354\n",
      "912       1       0      0.481336\n",
      "824       1       0      0.222893\n",
      "149       1       1      0.718980\n",
      "929       0       0      0.324362\n",
      "148       0       0      0.352714\n",
      "356       1       1      0.571384\n",
      "229       1       0      0.308476\n",
      "767       0       0      0.243893\n",
      "455       0       0      0.335777\n"
     ]
    }
   ],
   "source": [
    "# Делаем предсказание класса (0 или 1) на тестовых данных\n",
    "y_pred = model.predict(X_test)\n",
    "\n",
    "# Если мы хотим сделать предсказание вероятности оттока (например, вероятность класса 1),\n",
    "# мы можем использовать predict_proba:\n",
    "y_pred_proba = model.predict_proba(X_test)[:, 1]  # вторая колонка - вероятность класса 1\n",
    "\n",
    "# Для удобства можно сложить реальные и предсказанные значения в общий DataFrame\n",
    "results = pd.DataFrame({\n",
    "    'y_true': y_test,\n",
    "    'y_pred': y_pred,\n",
    "    'y_pred_proba': y_pred_proba\n",
    "}, index=X_test.index)\n",
    "\n",
    "print(results.head(10))\n"
   ]
  },
  {
   "cell_type": "code",
   "execution_count": 20,
   "id": "31c35b80-c5a0-4728-8518-15c362134c6d",
   "metadata": {},
   "outputs": [
    {
     "name": "stdout",
     "output_type": "stream",
     "text": [
      "Accuracy: 0.65\n",
      "\n",
      "Classification Report:\n",
      "              precision    recall  f1-score   support\n",
      "\n",
      "           0       0.66      0.89      0.76       122\n",
      "           1       0.61      0.28      0.39        78\n",
      "\n",
      "    accuracy                           0.65       200\n",
      "   macro avg       0.63      0.58      0.57       200\n",
      "weighted avg       0.64      0.65      0.61       200\n",
      "\n",
      "\n",
      "Confusion Matrix:\n",
      "[[108  14]\n",
      " [ 56  22]]\n",
      "\n",
      "ROC AUC Score: 0.6562631357713326\n"
     ]
    }
   ],
   "source": [
    "from sklearn.metrics import (\n",
    "    accuracy_score, \n",
    "    classification_report, \n",
    "    confusion_matrix, \n",
    "    roc_auc_score, \n",
    "    roc_curve\n",
    ")\n",
    "\n",
    "# 1. Точность (Accuracy)\n",
    "acc = accuracy_score(y_test, y_pred)\n",
    "print(\"Accuracy:\", acc)\n",
    "\n",
    "# 2. Подробный отчёт (Precision, Recall, F1-score)\n",
    "print(\"\\nClassification Report:\")\n",
    "print(classification_report(y_test, y_pred))\n",
    "\n",
    "# 3. Матрица ошибок\n",
    "cm = confusion_matrix(y_test, y_pred)\n",
    "print(\"\\nConfusion Matrix:\")\n",
    "print(cm)\n",
    "\n",
    "# 4. AUC-ROC\n",
    "# Поскольку roc_auc_score принимает вероятности или оценки принадлежности к классу,\n",
    "# передаём y_pred_proba (вероятности класса 1).\n",
    "auc_score = roc_auc_score(y_test, y_pred_proba)\n",
    "print(\"\\nROC AUC Score:\", auc_score)\n",
    "\n",
    "# 5. При желании можно построить ROC-кривую (если вы в Jupyter Notebook, удобнее ещё и визуализировать)\n",
    "fpr, tpr, thresholds = roc_curve(y_test, y_pred_proba)\n"
   ]
  },
  {
   "cell_type": "code",
   "execution_count": 23,
   "id": "7a5de9bd-9f79-4144-bf71-e2863c22390d",
   "metadata": {},
   "outputs": [
    {
     "name": "stdin",
     "output_type": "stream",
     "text": [
      "Введите количество дней использования сервиса (service_duration):  50\n",
      "Введите кол-во сессий в месяц (monthly_sessions):  10\n",
      "Введите среднее время нахождения в сервисе (time_spent, часы):  5\n",
      "Введите возраст пользователя (age):  50\n"
     ]
    },
    {
     "name": "stdout",
     "output_type": "stream",
     "text": [
      "Вероятность оттока = 0.52 (Пользователь, скорее всего, УЙДЁТ).\n"
     ]
    },
    {
     "name": "stderr",
     "output_type": "stream",
     "text": [
      "C:\\Users\\Azama\\PycharmProjects\\agricultural\\.venv\\Lib\\site-packages\\sklearn\\utils\\validation.py:2739: UserWarning: X does not have valid feature names, but LogisticRegression was fitted with feature names\n",
      "  warnings.warn(\n",
      "C:\\Users\\Azama\\PycharmProjects\\agricultural\\.venv\\Lib\\site-packages\\sklearn\\utils\\validation.py:2739: UserWarning: X does not have valid feature names, but LogisticRegression was fitted with feature names\n",
      "  warnings.warn(\n"
     ]
    }
   ],
   "source": [
    "import numpy as np\n",
    "\n",
    "# Допустим, у вас уже есть обученная модель \"model\".\n",
    "# Например:\n",
    "# from sklearn.linear_model import LogisticRegression\n",
    "# model = LogisticRegression().fit(X_train, y_train)\n",
    "\n",
    "# Попросим пользователя ввести данные\n",
    "service_duration = float(input(\"Введите количество дней использования сервиса (service_duration): \"))\n",
    "monthly_sessions = float(input(\"Введите кол-во сессий в месяц (monthly_sessions): \"))\n",
    "time_spent = float(input(\"Введите среднее время нахождения в сервисе (time_spent, часы): \"))\n",
    "age = float(input(\"Введите возраст пользователя (age): \"))\n",
    "\n",
    "# Формируем вектор признаков (обратите внимание на формат 2D: [[...]] для sklearn)\n",
    "X_new = np.array([[service_duration, monthly_sessions, time_spent, age]])\n",
    "\n",
    "# Делаем предсказание класса (0 или 1)\n",
    "prediction = model.predict(X_new)[0]\n",
    "\n",
    "# При желании можно получить вероятность оттока:\n",
    "prediction_proba = model.predict_proba(X_new)[0, 1]  # вероятность класса 1\n",
    "\n",
    "# Выводим результат\n",
    "if prediction == 1:\n",
    "    print(f\"Вероятность оттока = {prediction_proba:.2f} (Пользователь, скорее всего, УЙДЁТ).\")\n",
    "else:\n",
    "    print(f\"Вероятность оттока = {prediction_proba:.2f} (Пользователь, скорее всего, ОСТАНЕТСЯ).\")\n"
   ]
  },
  {
   "cell_type": "code",
   "execution_count": null,
   "id": "9124a655-524b-4e85-a12b-6121f8a818bb",
   "metadata": {},
   "outputs": [],
   "source": []
  }
 ],
 "metadata": {
  "kernelspec": {
   "display_name": "Python 3 (ipykernel)",
   "language": "python",
   "name": "python3"
  },
  "language_info": {
   "codemirror_mode": {
    "name": "ipython",
    "version": 3
   },
   "file_extension": ".py",
   "mimetype": "text/x-python",
   "name": "python",
   "nbconvert_exporter": "python",
   "pygments_lexer": "ipython3",
   "version": "3.12.6"
  }
 },
 "nbformat": 4,
 "nbformat_minor": 5
}
