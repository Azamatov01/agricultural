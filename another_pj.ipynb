{
 "cells": [
  {
   "cell_type": "code",
   "execution_count": null,
   "id": "e8d7dac3-c867-4a97-b64d-b45664059fdd",
   "metadata": {},
   "outputs": [],
   "source": [
    "import kagglehub\n",
    "\n",
    "# Загрузка дата-сета\n",
    "path = kagglehub.dataset_download(\"patelris/crop-yield-prediction-dataset\")\n",
    "\n",
    "print(\"Path to dataset files:\", path)"
   ]
  },
  {
   "cell_type": "code",
   "execution_count": null,
   "id": "c7989b13-bed4-4d7c-83e1-45529ea2eb50",
   "metadata": {},
   "outputs": [],
   "source": [
    "import os\n",
    "\n",
    "# Путь к директории с данными\n",
    "data_path = r'C:\\Users\\Azama\\.cache\\kagglehub\\datasets\\patelris\\crop-yield-prediction-dataset\\versions\\1'\n",
    "\n",
    "# Список файлов в директории\n",
    "files = os.listdir(data_path)\n",
    "print(files)"
   ]
  },
  {
   "cell_type": "code",
   "execution_count": null,
   "id": "25040441-97af-4bce-b35c-0822abfdfa11",
   "metadata": {},
   "outputs": [],
   "source": [
    "import warnings\n",
    "warnings.filterwarnings('ignore')\n",
    "import pandas as pd\n",
    "import matplotlib.pyplot as plt \n",
    "import seaborn as sns\n",
    "import numpy as np\n",
    "import geopandas as gpd\n",
    "import plotly.express as px"
   ]
  },
  {
   "cell_type": "code",
   "execution_count": null,
   "id": "2e8bfd26-9214-4dc1-8e69-5ea332c838c2",
   "metadata": {},
   "outputs": [],
   "source": [
    "class colorss:\n",
    "    yellows=['#ffffd4','#fee391','#fec44f','#fe9929','#d95f0e','#993404','#a70000','#ff5252','#ff7b7b','#ffbaba']\n",
    "    greens=['#ffffd4','#fee391','#fec44f','#fe9929','#d9f0a3','#addd8e','#78c679','#41ab5d','#238443','#005a32']\n",
    "cmaps=['flare','icefire','bwr_r','Accent','Spectral','RdGy','afmhot_r','afmhot','inferno','seismic','vlag','vlag_r']"
   ]
  },
  {
   "cell_type": "code",
   "execution_count": null,
   "id": "874402e7-9d5e-404b-aafa-144b266ef30c",
   "metadata": {},
   "outputs": [],
   "source": [
    "# Укажите путь к файлу yield_df.csv\n",
    "file_path = r'C:\\Users\\Azama\\.cache\\kagglehub\\datasets\\patelris\\crop-yield-prediction-dataset\\versions\\1\\yield_df.csv'\n",
    "\n",
    "# Загрузка данных\n",
    "df = pd.read_csv(file_path)"
   ]
  },
  {
   "cell_type": "code",
   "execution_count": null,
   "id": "51776359-c2c1-48bd-9fe6-9bd8af3cada6",
   "metadata": {},
   "outputs": [],
   "source": [
    "df"
   ]
  },
  {
   "cell_type": "code",
   "execution_count": null,
   "id": "9488c47d-4e07-4c76-8d12-5093a1a4cffc",
   "metadata": {},
   "outputs": [],
   "source": [
    "import pandas as pd\n",
    "\n",
    "# Словарь с переводом\n",
    "variable_description = {\n",
    "    \"Area\": \"Названия стран, где выращивают сельскохозяйственные культуры\",\n",
    "    \"Item\": \"Типы выращиваемых культур\",\n",
    "    \"Year\": \"Год посадки культур (1990-2013)\",\n",
    "    \"average_rain_fall_mm_per_year\": \"Среднее количество осадков в мм в год\",\n",
    "    \"pesticides_tonnes\": \"Количество использованных пестицидов (в тоннах)\",\n",
    "    \"avg_temp\": \"Средняя температура\",\n",
    "    \"hg/ha_yield\": \"Урожайность в гектограммах с гектара (Hg/Ha)\"\n",
    "}\n",
    "\n",
    "# Преобразуем в DataFrame\n",
    "description_df = pd.DataFrame(list(variable_description.items()), columns=[\"Переменная/Признак\", \"Описание\"])\n",
    "\n",
    "from IPython.display import display\n",
    "display(description_df)"
   ]
  },
  {
   "cell_type": "code",
   "execution_count": null,
   "id": "f1ef3c5c-bc11-48e4-9c0e-963fb260f558",
   "metadata": {},
   "outputs": [],
   "source": [
    "df.info()"
   ]
  },
  {
   "cell_type": "code",
   "execution_count": null,
   "id": "80a97760-5109-4698-a793-2464b7520af8",
   "metadata": {},
   "outputs": [],
   "source": [
    "df.describe().T"
   ]
  },
  {
   "cell_type": "code",
   "execution_count": null,
   "id": "a78d9317-2649-4cd0-8566-f2a576b0175c",
   "metadata": {},
   "outputs": [],
   "source": [
    "print(df.keys())"
   ]
  },
  {
   "cell_type": "code",
   "execution_count": null,
   "id": "15a1063d-e2f6-46c4-9498-f6e8137c7ac6",
   "metadata": {},
   "outputs": [],
   "source": [
    "print(df.isnull().sum())"
   ]
  },
  {
   "cell_type": "code",
   "execution_count": null,
   "id": "22e2a169-fff5-44c3-88a8-606c7b3c73f5",
   "metadata": {},
   "outputs": [],
   "source": [
    "df.describe(include='object')"
   ]
  },
  {
   "cell_type": "code",
   "execution_count": null,
   "id": "1483af1b-5f4c-467a-80ff-8b2f281af1e9",
   "metadata": {},
   "outputs": [],
   "source": [
    "df.drop(\"Unnamed: 0\", axis=1,inplace=True)\n",
    "df"
   ]
  },
  {
   "cell_type": "code",
   "execution_count": null,
   "id": "6e7647cd-3674-4f6c-8707-d07041f71133",
   "metadata": {},
   "outputs": [],
   "source": [
    "#удаляем старны в которых меньше 100 записей\n",
    "country_counts =df['Area'].value_counts()\n",
    "countries_to_drop = country_counts[country_counts < 100].index.tolist()\n",
    "df_filtered = df[~df['Area'].isin(countries_to_drop)]\n",
    "df = df_filtered.reset_index(drop=True)"
   ]
  },
  {
   "cell_type": "code",
   "execution_count": null,
   "id": "e789f8c4-0625-4698-b9f0-d5f5f050bd78",
   "metadata": {},
   "outputs": [],
   "source": [
    "df"
   ]
  },
  {
   "cell_type": "code",
   "execution_count": null,
   "id": "97a84aff-5016-4137-96f5-0510fab6cd2e",
   "metadata": {},
   "outputs": [],
   "source": [
    "datacorr=df.copy()"
   ]
  },
  {
   "cell_type": "code",
   "execution_count": null,
   "id": "ce5f2e21-8bb2-493d-83b8-66f28798b098",
   "metadata": {},
   "outputs": [],
   "source": [
    "from sklearn.preprocessing import LabelEncoder\n",
    "categorical_columns = datacorr.select_dtypes(include=['object']).columns.tolist()\n",
    "label_encoder = LabelEncoder()\n",
    "for column in categorical_columns:\n",
    "    datacorr[column] = label_encoder.fit_transform(datacorr[column])"
   ]
  },
  {
   "cell_type": "code",
   "execution_count": null,
   "id": "8bcc5041-127c-4fd9-a43c-5a2ddf16db0b",
   "metadata": {},
   "outputs": [],
   "source": [
    "plt.title(\"Корреляция между числовыми признаками\")\n",
    "sns.heatmap(datacorr.corr() , annot= True , cmap='PuOr')"
   ]
  },
  {
   "cell_type": "code",
   "execution_count": null,
   "id": "400550ae-b43a-4fb8-800f-315039e2cbaa",
   "metadata": {},
   "outputs": [],
   "source": [
    "import matplotlib.pyplot as plt\n",
    "import seaborn as sns\n",
    "\n",
    "# Настройка палитры\n",
    "sns.set(palette='BrBG')\n",
    "\n",
    "# Получаем список числовых столбцов\n",
    "numerical_columns = df.select_dtypes(include=['float64', 'int64']).columns\n",
    "\n",
    "# Создаем отдельный график для каждого числового столбца\n",
    "for column in numerical_columns:\n",
    "    plt.figure(figsize=(6, 4))  # Задаем размер графика\n",
    "    df[column].hist(bins=20)    # Строим гистограмму для столбца\n",
    "    plt.title(f'Гистограмма для {column}')  # Заголовок графика\n",
    "    plt.xlabel(column)  # Название оси X\n",
    "    plt.ylabel('Частота')  # Название оси Y\n",
    "    plt.show()  # Показываем график"
   ]
  },
  {
   "cell_type": "code",
   "execution_count": null,
   "id": "7247db1d-e551-4de0-8302-733b194f5e89",
   "metadata": {},
   "outputs": [],
   "source": [
    "sns.pairplot(data=df,hue='Item',kind='scatter',palette='BrBG')"
   ]
  },
  {
   "cell_type": "code",
   "execution_count": null,
   "id": "2db6fe04-dc17-47a1-98bf-94dcb34d37c5",
   "metadata": {},
   "outputs": [],
   "source": [
    "df2=df[df['Item']=='Yams']\n",
    "df2.groupby('Year')['hg/ha_yield'].mean().plot(color='brown')"
   ]
  },
  {
   "cell_type": "code",
   "execution_count": null,
   "id": "c1b98e93-4c75-4df6-8255-1d0f7319fca6",
   "metadata": {},
   "outputs": [],
   "source": [
    "geojson_url = \"https://raw.githubusercontent.com/nvkelso/natural-earth-vector/master/geojson/ne_110m_admin_0_countries.geojson\"\n",
    "data = gpd.read_file(geojson_url)\n",
    "\n",
    "merged_data = data.merge(df, left_on='NAME', right_on='Area', how='left')"
   ]
  },
  {
   "cell_type": "code",
   "execution_count": null,
   "id": "954f2667-0570-4762-a149-67d932af2547",
   "metadata": {},
   "outputs": [],
   "source": [
    "# fig, ax = plt.subplots(figsize=(15, 10))\n",
    "merged_data.plot( column='hg/ha_yield', cmap='Greens_r', linewidth=0.8, edgecolor='0.8')\n",
    "# plt.title(\"Countries\")\n",
    "plt.show()"
   ]
  },
  {
   "cell_type": "code",
   "execution_count": null,
   "id": "d5589253-eb0d-4b13-9f7d-55fb2112af83",
   "metadata": {},
   "outputs": [],
   "source": [
    "del merged_data"
   ]
  },
  {
   "cell_type": "code",
   "execution_count": null,
   "id": "8f42c3a7-4eb0-47b7-8069-8aa18824fe7f",
   "metadata": {},
   "outputs": [],
   "source": [
    "del data"
   ]
  },
  {
   "cell_type": "code",
   "execution_count": null,
   "id": "853635d1-871f-44e7-8e4d-90d0763cfc70",
   "metadata": {},
   "outputs": [],
   "source": [
    "palette = sns.color_palette('tab20', 21,as_cmap=True)\n",
    "num_plots = 7\n",
    "areas_per_plot = 10\n",
    "\n",
    "# Get unique areas \n",
    "unique_areas = sorted(df['Area'].unique())\n",
    "\n",
    "# Split into chunks\n",
    "area_chunks = [unique_areas[i:i+areas_per_plot] for i in range(0, len(unique_areas), areas_per_plot)]\n",
    "area_chunks[-2] = unique_areas[-11:] \n",
    "fig, axs = plt.subplots(ncols=num_plots, figsize=(30, 10))\n",
    "j=0\n",
    "for i, ax in enumerate(axs):\n",
    "\n",
    "    plot_df = df[df['Area'].isin(area_chunks[i])]\n",
    "    for i, area in enumerate(plot_df['Area'].unique()):\n",
    "       data = plot_df[plot_df['Area'] == area]\n",
    "       ax.hist(data['hg/ha_yield'], facecolor=palette(i), label=area)\n",
    "\n",
    "    ax.legend()\n",
    "    j+=1\n",
    "   \n",
    "plt.show()"
   ]
  },
  {
   "cell_type": "code",
   "execution_count": null,
   "id": "edf17315-78e2-498a-8426-0b5e800d5bc8",
   "metadata": {},
   "outputs": [],
   "source": [
    "for i in range(0,7):\n",
    "    plot_df = df[df['Area'].isin(area_chunks[i])]\n",
    "    dk=plot_df.groupby(['Area','Item'])['hg/ha_yield'].mean().to_frame()\n",
    "    dg=dk.sort_values(by=['hg/ha_yield'],ascending=True)\n",
    "    display(dg.head())"
   ]
  },
  {
   "cell_type": "code",
   "execution_count": null,
   "id": "e6bc98e7-d87c-4252-bbf6-68e4d390da20",
   "metadata": {},
   "outputs": [],
   "source": [
    "for i in range(0,7):\n",
    "    plot_df = df[df['Area'].isin(area_chunks[i])]\n",
    "    dk=plot_df.groupby(['Area','Item'])['hg/ha_yield'].mean().to_frame()\n",
    "    dg=dk.sort_values(by=['hg/ha_yield'],ascending=False)\n",
    "    display(dg.head())"
   ]
  },
  {
   "cell_type": "code",
   "execution_count": null,
   "id": "5b29fb62-0218-4646-8f00-c1a257ccacb9",
   "metadata": {},
   "outputs": [],
   "source": [
    "dk=df.groupby(['Area','Item'])['hg/ha_yield'].mean().to_frame()\n",
    "dk.sort_values(by=['hg/ha_yield'],ascending=False)"
   ]
  },
  {
   "cell_type": "code",
   "execution_count": null,
   "id": "8f0537b9-26e4-4abb-84ab-700b1b4ae5c6",
   "metadata": {},
   "outputs": [],
   "source": [
    "for i in range(0,7):\n",
    "    plot_df = df[df['Area'].isin(area_chunks[i])]\n",
    "    plot_df.groupby(['Area'])['average_rain_fall_mm_per_year'].mean().plot(kind='bar',rot=0,color=colorss.greens)\n",
    "    plt.xticks(rotation=90)\n",
    "    plt.show()"
   ]
  },
  {
   "cell_type": "code",
   "execution_count": null,
   "id": "a2885f8d-9d97-4254-946f-fa530c62f09c",
   "metadata": {},
   "outputs": [],
   "source": [
    "for i in range(0,7):\n",
    "    plot_df = df[df['Area'].isin(area_chunks[i])]\n",
    "    plot_df.groupby(['Area'])['pesticides_tonnes'].mean().plot(kind='bar',rot=0,color=colorss.yellows)\n",
    "    plt.xticks(rotation=90)\n",
    "    plt.show()"
   ]
  },
  {
   "cell_type": "code",
   "execution_count": null,
   "id": "0d218ae4-c78b-4ee6-8f9f-d365c72cf137",
   "metadata": {},
   "outputs": [],
   "source": [
    "for i in range(0,7):\n",
    "    plot_df = df[df['Area'].isin(area_chunks[i])]\n",
    "    plot_df.groupby('Area')[['pesticides_tonnes', 'hg/ha_yield']].mean().plot(kind='bar',rot=0,color=colorss.yellows[-6:])\n",
    "    plt.xticks(rotation=90)\n",
    "    plt.show()"
   ]
  },
  {
   "cell_type": "code",
   "execution_count": null,
   "id": "097eea43-ef2e-4c6f-9165-e22fa300be70",
   "metadata": {},
   "outputs": [],
   "source": [
    "sns.barplot(data=df, x = df.Item, y = df['pesticides_tonnes'],palette='BrBG')\n",
    "plt.xticks(rotation=90)\n",
    "plt.show()"
   ]
  },
  {
   "cell_type": "markdown",
   "id": "b9638136-8230-4ece-9876-3a7965997d40",
   "metadata": {},
   "source": [
    "Больше всего пестицидов используется в продуктах: Батат. Меньше всего пестицидов используется в продуктах: бананах и других"
   ]
  },
  {
   "cell_type": "code",
   "execution_count": null,
   "id": "f47b0998-52e3-48ca-a410-94347a29dffe",
   "metadata": {},
   "outputs": [],
   "source": [
    "a4_dims = (16.7, 8.27)\n",
    "\n",
    "fig, ax = plt.subplots(figsize=a4_dims)\n",
    "sns.boxplot(x=\"Item\",y=\"hg/ha_yield\",palette=\"BrBG\",data=df,ax=ax)"
   ]
  },
  {
   "cell_type": "markdown",
   "id": "3fa62403-3580-4405-8b17-1943ba7d67b9",
   "metadata": {},
   "source": [
    "Наиболее производимые продукты: картофель, маниока. Наименее производимые продукты: соя, сорго, пшеница, кукуруза и рис, рисовое пюре"
   ]
  },
  {
   "cell_type": "code",
   "execution_count": null,
   "id": "ee48f814-1539-43ff-a575-91bb5b69ca1b",
   "metadata": {},
   "outputs": [],
   "source": [
    "sns.scatterplot(x = 'Item', y = 'avg_temp', data = df,size=10,color='y')\n",
    "plt.xticks(rotation=90);"
   ]
  },
  {
   "cell_type": "code",
   "execution_count": null,
   "id": "8b95b60a-4dda-4580-8cd8-827fe29f7da6",
   "metadata": {},
   "outputs": [],
   "source": [
    "grouped = df.groupby('Item')\n",
    "\n",
    "best_areas = []\n",
    "\n",
    "for item, group in grouped:\n",
    "    max_production_row = group[group['hg/ha_yield'] == group['hg/ha_yield'].max()]\n",
    "    \n",
    "    area = max_production_row['Area'].values[0]\n",
    "    production = max_production_row['hg/ha_yield'].values[0]\n",
    "    \n",
    "    best_areas.append({'Item': item, 'Area': area, 'hg/ha_yield': production})\n",
    "\n",
    "best_areas_df = pd.DataFrame(best_areas)\n",
    "\n",
    "best_areas_df"
   ]
  },
  {
   "cell_type": "code",
   "execution_count": null,
   "id": "69a7f613-44ca-4495-a19f-d23b960a502e",
   "metadata": {},
   "outputs": [],
   "source": [
    "ax=sns.barplot(data=best_areas_df,x='hg/ha_yield',y='Area',hue='Item',palette=colorss.yellows)\n",
    "ax.legend(bbox_to_anchor=(1.05, 1), loc='upper left')\n",
    "plt.show()"
   ]
  },
  {
   "cell_type": "markdown",
   "id": "3fd4be3e-d713-4514-baf1-1d23d1ee1b93",
   "metadata": {},
   "source": [
    "Маниока: Индия лидирует по производству маниоки.\n",
    "Кукуруза: Таджикистан лидирует по выращиванию кукурузы.\n",
    "Бананы и другие культуры: Гватемала является лучшим источником бананов и других культур.\n",
    "Картофель: Франция лидирует по производству картофеля.\n",
    "Рис-пэдди: Австралия является ведущей страной по производству риса-пэдди.\n",
    "Сорго: Алжир лидирует в производстве сорго.\n",
    "Соевые бобы: Турция не имеет себе равных в производстве соевых бобов.\n",
    "Сладкий картофель: Сенегал является лучшим производителем сладкого картофеля.\n",
    "Пшеница: Замбия превосходит все страны по производству пшеницы.\n",
    "Батат: Мали превосходит все страны по выращиванию батата."
   ]
  },
  {
   "cell_type": "code",
   "execution_count": null,
   "id": "0b58d011-21ef-4d72-a588-9669417dd62b",
   "metadata": {},
   "outputs": [],
   "source": [
    "from sklearn.linear_model import LinearRegression\n",
    "from sklearn.ensemble import RandomForestRegressor, GradientBoostingRegressor \n",
    "from sklearn.metrics import mean_squared_error, r2_score, mean_absolute_error, mean_absolute_percentage_error\n",
    "from xgboost import XGBRegressor\n",
    "from sklearn.model_selection import train_test_split\n",
    "from sklearn.preprocessing import LabelEncoder, StandardScaler\n",
    "from sklearn.model_selection import cross_val_score\n",
    "from sklearn.model_selection import KFold\n",
    "from sklearn.neighbors import KNeighborsRegressor\n",
    "from sklearn.tree import DecisionTreeRegressor\n",
    "from sklearn.ensemble import BaggingRegressor"
   ]
  },
  {
   "cell_type": "code",
   "execution_count": null,
   "id": "888a3c33-03e2-4e52-a653-1efa6687a472",
   "metadata": {},
   "outputs": [],
   "source": [
    "X, y = datacorr.drop(labels='hg/ha_yield', axis=1), datacorr['hg/ha_yield']"
   ]
  },
  {
   "cell_type": "code",
   "execution_count": null,
   "id": "1602c1e8-c18a-44bc-9f9b-480f18be28a2",
   "metadata": {},
   "outputs": [],
   "source": [
    "X_train, X_test, y_train, y_test = train_test_split(X, y, test_size=0.3, random_state=42)"
   ]
  },
  {
   "cell_type": "code",
   "execution_count": null,
   "id": "f890a076-4ade-4298-a1a0-cc82efc87d9b",
   "metadata": {},
   "outputs": [],
   "source": [
    "results = []\n",
    "\n",
    "models = [\n",
    "    ('Linear Regression', LinearRegression()),\n",
    "    ('Random Forest', RandomForestRegressor(random_state=42)),\n",
    "    ('Gradient Boost', GradientBoostingRegressor(n_estimators=100, learning_rate=0.1, max_depth=3,random_state=42)),\n",
    "    ('XGBoost', XGBRegressor(random_state=42)),\n",
    "    ('KNN',KNeighborsRegressor(n_neighbors=5)),\n",
    "    ('Decision Tree',DecisionTreeRegressor(random_state=42)),\n",
    "    ('Bagging Regressor',BaggingRegressor(n_estimators=150, random_state=42))\n",
    "          ]\n",
    "\n",
    "for name, model in models:\n",
    "    model.fit(X_train, y_train)\n",
    "    y_pred = model.predict(X_test)\n",
    "    accuracy = model.score(X_test, y_test)\n",
    "    MSE = mean_squared_error(y_test, y_pred)\n",
    "    R2_score = r2_score(y_test, y_pred)\n",
    "    results.append((name, accuracy, MSE, R2_score))\n",
    "    acc = (model.score(X_train , y_train)*100)\n",
    "    print(f'The accuracy of the {name} Model Train is {acc:.2f}')\n",
    "    acc =(model.score(X_test , y_test)*100)\n",
    "    print(f'The accuracy of the  {name} Model Test is {acc:.2f}')    \n",
    "    plt.scatter(y_test, y_pred,s=10,color='#9B673C')\n",
    "    plt.xlabel('Actual Values')\n",
    "    plt.ylabel('Predicted Values')\n",
    "#     plt.title(f' {name} Evaluation')\n",
    "    plt.plot([min(y_test), max(y_test)], [min(y_test), max(y_test)], color='green', linewidth = 4)\n",
    "    plt.show()\n",
    "\n",
    "dff = pd.DataFrame(results, columns=['Model', 'Accuracy', 'MSE', 'R2_score'])\n",
    "df_styled_best = dff.style.highlight_max(subset=['Accuracy','R2_score'], color='green').highlight_min(subset=['MSE'], color='green').highlight_max(subset=['MSE'], color='red').highlight_min(subset=['Accuracy','R2_score'], color='red')\n",
    "\n",
    "# df_styled_worst = dff.style.highlight_max(subset=['MSE'], color='red').highlight_min(subset=['Accuracy','R2_score'], color='red')\n",
    "\n",
    "display(df_styled_best)\n",
    "# display(df_styled_worst)"
   ]
  },
  {
   "cell_type": "code",
   "execution_count": null,
   "id": "714399fb-a0e4-4812-a4d4-09ddd64642b4",
   "metadata": {},
   "outputs": [],
   "source": [
    "import matplotlib.pyplot as plt\n",
    "import numpy as np\n",
    "\n",
    "# Получение важности признаков из обученной модели Random Forest\n",
    "importances = model.feature_importances_\n",
    "\n",
    "# Индексы признаков, отсортированные по важности\n",
    "indices = np.argsort(importances)\n",
    "\n",
    "# Построение графика\n",
    "plt.figure(figsize=(10, 6))\n",
    "plt.title(\"Важность признаков для Random Forest\")\n",
    "plt.barh(range(X_train.shape[1]), importances[indices], align=\"center\")\n",
    "plt.yticks(range(X_train.shape[1]), X_train.columns[indices])\n",
    "plt.show()"
   ]
  },
  {
   "cell_type": "code",
   "execution_count": null,
   "id": "285d5c1b-162c-4069-b1b9-03255ffe5267",
   "metadata": {},
   "outputs": [],
   "source": [
    "import xgboost as xgb\n",
    "from xgboost import plot_importance\n",
    "import shap\n",
    "import matplotlib.pyplot as plt\n",
    "\n",
    "# Замените 'xgb_model' на вашу обученную модель\n",
    "xgb_model = XGBRegressor(random_state=42)  # Пример, если модель еще не обучена\n",
    "xgb_model.fit(X_train, y_train)  # Обучаем модель\n",
    "\n",
    "# Визуализация важности признаков с использованием XGBoost\n",
    "plt.figure(figsize=(10, 8))\n",
    "xgb.plot_importance(xgb_model, max_num_features=10, importance_type='weight')\n",
    "plt.title('Важность признаков (XGBoost)')\n",
    "plt.show()\n",
    "\n",
    "# Объяснение модели с помощью SHAP\n",
    "explainer = shap.TreeExplainer(xgb_model)\n",
    "shap_values = explainer.shap_values(X_test)\n",
    "\n",
    "# SHAP Summary Plot\n",
    "shap.summary_plot(shap_values, X_test, plot_type=\"bar\")\n"
   ]
  },
  {
   "cell_type": "code",
   "execution_count": null,
   "id": "18c9e83d-f741-4de9-94d8-b370bae85d1e",
   "metadata": {},
   "outputs": [],
   "source": [
    "import matplotlib.pyplot as plt\n",
    "import shap\n",
    "import numpy as np\n",
    "from sklearn.ensemble import RandomForestRegressor\n",
    "\n",
    "# Предположим, что random_forest_model — это уже обученная модель RandomForest\n",
    "random_forest_model = RandomForestRegressor(random_state=42)  # Пример\n",
    "random_forest_model.fit(X_train, y_train)  # Обучение модели\n",
    "\n",
    "# 1. Визуализация важности признаков с использованием RandomForest\n",
    "importances = random_forest_model.feature_importances_\n",
    "feature_names = X_train.columns\n",
    "\n",
    "# Сортировка признаков по важности\n",
    "sorted_indices = np.argsort(importances)[::-1]\n",
    "sorted_importances = importances[sorted_indices]\n",
    "sorted_feature_names = feature_names[sorted_indices]\n",
    "\n",
    "# Построение графика важности признаков\n",
    "plt.figure(figsize=(10, 8))\n",
    "plt.barh(sorted_feature_names, sorted_importances, color='skyblue')\n",
    "plt.gca().invert_yaxis()\n",
    "plt.title('Важность признаков (Random Forest)')\n",
    "plt.xlabel('Значение важности')\n",
    "plt.ylabel('Признаки')\n",
    "plt.show()\n",
    "\n",
    "# 2. Объяснение модели с помощью SHAP\n",
    "explainer = shap.TreeExplainer(random_forest_model)\n",
    "shap_values = explainer.shap_values(X_test)\n",
    "\n",
    "# SHAP Summary Plot\n",
    "shap.summary_plot(shap_values, X_test, plot_type=\"bar\")\n"
   ]
  }
 ],
 "metadata": {
  "kernelspec": {
   "display_name": "Python 3 (ipykernel)",
   "language": "python",
   "name": "python3"
  },
  "language_info": {
   "codemirror_mode": {
    "name": "ipython",
    "version": 3
   },
   "file_extension": ".py",
   "mimetype": "text/x-python",
   "name": "python",
   "nbconvert_exporter": "python",
   "pygments_lexer": "ipython3",
   "version": "3.12.6"
  }
 },
 "nbformat": 4,
 "nbformat_minor": 5
}
